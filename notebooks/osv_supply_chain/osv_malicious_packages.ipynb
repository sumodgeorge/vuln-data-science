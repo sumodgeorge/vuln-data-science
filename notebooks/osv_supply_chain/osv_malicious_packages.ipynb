{
 "cells": [
  {
   "cell_type": "code",
   "execution_count": null,
   "metadata": {
    "ExecuteTime": {
     "end_time": "2025-02-08T19:31:35.646100Z",
     "start_time": "2025-02-08T19:31:34.663998Z"
    },
    "vscode": {
     "languageId": "python"
    }
   },
   "outputs": [
    {
     "data": {
      "text/html": [
       "<div>\n",
       "<style scoped>\n",
       "    .dataframe tbody tr th:only-of-type {\n",
       "        vertical-align: middle;\n",
       "    }\n",
       "\n",
       "    .dataframe tbody tr th {\n",
       "        vertical-align: top;\n",
       "    }\n",
       "\n",
       "    .dataframe thead th {\n",
       "        text-align: right;\n",
       "    }\n",
       "</style>\n",
       "<table border=\"1\" class=\"dataframe\">\n",
       "  <thead>\n",
       "    <tr style=\"text-align: right;\">\n",
       "      <th></th>\n",
       "      <th>ecosystem</th>\n",
       "      <th>type</th>\n",
       "      <th>total_affected</th>\n",
       "      <th>most_affected_package</th>\n",
       "      <th>peak_attack_year</th>\n",
       "      <th>trend_data</th>\n",
       "    </tr>\n",
       "  </thead>\n",
       "  <tbody>\n",
       "    <tr>\n",
       "      <th>0</th>\n",
       "      <td>CRAN</td>\n",
       "      <td>Vulnerability</td>\n",
       "      <td>10</td>\n",
       "      <td>readxl</td>\n",
       "      <td>2023</td>\n",
       "      <td>[0, 0, 0, 0, 0, 0, 0, 0, 0, 10, 0]</td>\n",
       "    </tr>\n",
       "  </tbody>\n",
       "</table>\n",
       "</div>"
      ],
      "text/plain": [
       "  ecosystem           type  total_affected most_affected_package  \\\n",
       "0      CRAN  Vulnerability              10                readxl   \n",
       "\n",
       "   peak_attack_year                          trend_data  \n",
       "0              2023  [0, 0, 0, 0, 0, 0, 0, 0, 0, 10, 0]  "
      ]
     },
     "execution_count": 1,
     "metadata": {},
     "output_type": "execute_result"
    }
   ],
   "source": [
    "import pandas as pd\n",
    "\n",
    "df = pd.read_csv(\"../../data/osv/processed/osv_ecosystem_summary.csv\")\n",
    "df.head(1)"
   ]
  },
  {
   "cell_type": "code",
   "execution_count": null,
   "metadata": {
    "vscode": {
     "languageId": "python"
    }
   },
   "outputs": [],
   "source": [
    "from great_tables import GT, md, html, nanoplot_options\n",
    "import pandas as pd\n",
    "import numpy as np\n",
    "import ast\n",
    "\n",
    "\n",
    "# Ensure `trend_data` is properly formatted as a comma-separated string\n",
    "df[\"trend_data\"] = df[\"trend_data\"].apply(\n",
    "    lambda x: \", \".join(map(str, np.array(ast.literal_eval(x))))\n",
    "    if isinstance(x, str) and x.startswith(\"[\")\n",
    "    else \", \".join(map(str, x))\n",
    "    if isinstance(x, (list, np.ndarray))\n",
    "    else str(x)\n",
    ")\n",
    "\n",
    "df[\"icon\"] = df[\"type\"].replace({\"Vulnerability\": \"bug\", \"Malicious Code\": \"skull\"})\n",
    "\n",
    "color_map = {\"bug\": \"purple\", \"skull\": \"red\"}\n",
    "\n",
    "# Create a sorted table DataFrame with the desired columns\n",
    "table_df = df[\n",
    "    [\"ecosystem\", \"icon\", \"total_affected\", \"peak_attack_year\", \"trend_data\"]\n",
    "].sort_values([\"total_affected\", \"ecosystem\"], ascending=[False, True])\n",
    "\n",
    "# Generate the Great Table\n",
    "gt_table = (\n",
    "    GT(table_df)\n",
    "    .tab_header(\n",
    "        title=md(\"**OSV Security Trends**\"),\n",
    "        subtitle=md(\n",
    "            \"_Malicious Code & Vulnerability Insights Across Software Supply Chains_\"\n",
    "        ),\n",
    "    )\n",
    "    .tab_stub(rowname_col=\"ecosystem\")\n",
    "    .tab_stubhead(label=\"Ecosystem\")\n",
    "    .tab_source_note(source_note=md(\"*Year Trends from 2014-2024*\"))\n",
    "    .tab_source_note(\n",
    "        source_note=md(\n",
    "            \"Data sourced from [OSV.dev](https://osv.dev) (Open Source Vulnerability) and analyzed for vulnerability & malicious code trends. Covers PyPI, npm, Maven, Go, RubyGems, NuGet, Packagist, Pub, CRAN, Hackage, Hex, and crates.io. Last updated: February 2025.\"\n",
    "        )\n",
    "    )\n",
    "    .tab_source_note(\n",
    "        source_note=md(\"**Legend:** Bug = Vulnerability | Skull = Malicious Code\")\n",
    "    )\n",
    "    .tab_stubhead(label=\"Ecosystem\")\n",
    "    .cols_label(\n",
    "        ecosystem=\"Ecosystem\",\n",
    "        icon=\"Type\",\n",
    "        total_affected=\"Total\",\n",
    "        peak_attack_year=\"Peak\",\n",
    "        trend_data=\"Year Trend\",\n",
    "    )\n",
    "    .fmt_nanoplot(\n",
    "        \"trend_data\",\n",
    "        plot_type=\"bar\",\n",
    "        reference_line=\"mean\",\n",
    "        options=nanoplot_options(\n",
    "            data_bar_stroke_color=\"black\",\n",
    "            data_bar_stroke_width=2,\n",
    "            data_bar_fill_color=\"darkgray\",\n",
    "            reference_line_color=\"pink\",\n",
    "        ),\n",
    "    )\n",
    "    .fmt_number(columns=\"total_affected\", sep_mark=\",\", decimals=0)\n",
    "    .cols_align(align=\"left\", columns=[\"ecosystem\"])\n",
    "    .cols_align(\n",
    "        align=\"center\",\n",
    "        columns=[\"icon\", \"total_affected\", \"peak_attack_year\", \"trend_data\"],\n",
    "    )\n",
    "    .fmt_icon(columns=\"icon\", fill_color=color_map)\n",
    ")\n",
    "\n",
    "\n",
    "# Generate the raw HTML from the table\n",
    "html_output = gt_table.as_raw_html()\n",
    "\n",
    "# Save it to an HTML file\n",
    "with open(\n",
    "    \"../../data/osv/processed/osv_security_trends.html\", \"w\", encoding=\"utf-8\"\n",
    ") as f:\n",
    "    f.write(html_output)\n",
    "\n",
    "# Display the table\n",
    "gt_table"
   ]
  }
 ],
 "metadata": {
  "kernelspec": {
   "display_name": "Python 3 (ipykernel)",
   "language": "python",
   "name": "python3"
  },
  "language_info": {
   "name": "plaintext"
  }
 },
 "nbformat": 4,
 "nbformat_minor": 2
}
