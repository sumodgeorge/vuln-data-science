{
 "cells": [
  {
   "metadata": {},
   "cell_type": "markdown",
   "source": "# CVE Data Stories: CWE Trends - Data Processing\n",
   "id": "27cc09c58d26f1ab"
  },
  {
   "metadata": {
    "ExecuteTime": {
     "end_time": "2025-01-11T10:58:35.103323Z",
     "start_time": "2025-01-11T10:58:35.099704Z"
    }
   },
   "cell_type": "code",
   "source": [
    "import csv\n",
    "import json\n",
    "from collections import defaultdict\n",
    "from datetime import datetime\n",
    "from pathlib import Path\n",
    "\n",
    "import pandas as pd"
   ],
   "id": "d61ccd305620de3d",
   "outputs": [],
   "execution_count": 1
  },
  {
   "metadata": {},
   "cell_type": "markdown",
   "source": [
    "# Paths Setup and Data Directories\n",
    "\n",
    "We start by defining the paths for the raw CVE datasets and setting up the target directory for storing processed data. This includes creating a dictionary of dataset file names for each year and ensuring the target directory exists for saving outputs."
   ],
   "id": "da35e268f2036319"
  },
  {
   "metadata": {
    "ExecuteTime": {
     "end_time": "2025-01-11T10:58:35.114313Z",
     "start_time": "2025-01-11T10:58:35.109871Z"
    }
   },
   "cell_type": "code",
   "source": [
    "# Paths\n",
    "DATASETS = {year: f\"nvdcve-1.1-{year}.json\" for year in range(2002, 2025)}\n",
    "data_folder = Path(\"../../../data/cve_data_stories/raw\")\n",
    "\n",
    "# Target directory for processed data\n",
    "DATA_DIR = Path(\"../../../data/cve_data_stories/cwe_trends/processed\")\n",
    "DATA_DIR.mkdir(parents=True, exist_ok=True)\n",
    "\n",
    "output_csv_yearly = DATA_DIR / \"cwe_yearly_counts.csv\"\n",
    "output_csv_cumulative = DATA_DIR / \"cwe_yearly_cumulative.csv\""
   ],
   "id": "4513f76702c553e3",
   "outputs": [],
   "execution_count": 2
  },
  {
   "metadata": {},
   "cell_type": "markdown",
   "source": [
    "# Collecting CWE Yearly Counts\n",
    "\n",
    "This section processes the raw JSON datasets to extract CWE IDs and their associated publication years.\n",
    "\n",
    "The key steps include:\n",
    "1. Reading the JSON files.\n",
    "2. Extracting CWE IDs and publication years from each CVE item.\n",
    "3. Counting occurrences of each CWE ID by year.\n",
    "\n",
    "The resulting yearly counts are stored in a dictionary for further processing."
   ],
   "id": "9ebcca448aa9dd45"
  },
  {
   "metadata": {
    "ExecuteTime": {
     "end_time": "2025-01-11T10:59:16.399297Z",
     "start_time": "2025-01-11T10:58:35.335360Z"
    }
   },
   "cell_type": "code",
   "source": [
    "def collect_cwe_yearly_counts(json_file, year_counts):\n",
    "    try:\n",
    "        with open(json_file, 'r') as f:\n",
    "            data = json.load(f)\n",
    "\n",
    "        for item in data.get('CVE_Items', []):\n",
    "            published_date = item.get('publishedDate', None)\n",
    "\n",
    "            # Parse year from the published date\n",
    "            if published_date:\n",
    "                pub_year = datetime.strptime(published_date, \"%Y-%m-%dT%H:%MZ\").year\n",
    "            else:\n",
    "                continue  # Skip if no published date\n",
    "\n",
    "            # Extract CWE IDs\n",
    "            cwe_ids = item.get('cve', {}).get('problemtype', {}).get('problemtype_data', [])\n",
    "            for cwe_entry in cwe_ids:\n",
    "                for desc in cwe_entry.get('description', []):\n",
    "                    cwe = desc.get('value', '')  # Get CWE ID (e.g., CWE-79)\n",
    "                    if cwe:\n",
    "                        year_counts[(cwe, pub_year)] += 1\n",
    "\n",
    "    except FileNotFoundError:\n",
    "        print(f\"File not found: {json_file}\")\n",
    "    except json.JSONDecodeError:\n",
    "        print(f\"Error decoding JSON: {json_file}\")\n",
    "    except Exception as e:\n",
    "        print(f\"An error occurred: {e}\")\n",
    "\n",
    "\n",
    "# Initialize defaultdict to hold CWE yearly counts\n",
    "cwe_yearly_counts = defaultdict(int)\n",
    "\n",
    "# Process each dataset\n",
    "for year, file_name in DATASETS.items():\n",
    "    input_file = data_folder / file_name\n",
    "    print(f\"Processing {input_file}\")\n",
    "    collect_cwe_yearly_counts(input_file, cwe_yearly_counts)\n",
    "\n",
    "# Write CWE yearly counts to a CSV\n",
    "with open(output_csv_yearly, 'w', newline='') as csvfile:\n",
    "    writer = csv.writer(csvfile)\n",
    "    writer.writerow([\"CWE_ID\", \"Year\", \"Count\"])  # Header row\n",
    "    for (cwe_id, year), count in sorted(cwe_yearly_counts.items()):\n",
    "        writer.writerow([cwe_id, year, count])\n",
    "\n",
    "print(f\"Yearly CWE counts written to {output_csv_yearly}\")"
   ],
   "id": "fa64c992084d34a1",
   "outputs": [
    {
     "name": "stdout",
     "output_type": "stream",
     "text": [
      "Processing ../../../data/cve_data_stories/raw/nvdcve-1.1-2002.json\n",
      "Processing ../../../data/cve_data_stories/raw/nvdcve-1.1-2003.json\n",
      "Processing ../../../data/cve_data_stories/raw/nvdcve-1.1-2004.json\n",
      "Processing ../../../data/cve_data_stories/raw/nvdcve-1.1-2005.json\n",
      "Processing ../../../data/cve_data_stories/raw/nvdcve-1.1-2006.json\n",
      "Processing ../../../data/cve_data_stories/raw/nvdcve-1.1-2007.json\n",
      "Processing ../../../data/cve_data_stories/raw/nvdcve-1.1-2008.json\n",
      "Processing ../../../data/cve_data_stories/raw/nvdcve-1.1-2009.json\n",
      "Processing ../../../data/cve_data_stories/raw/nvdcve-1.1-2010.json\n",
      "Processing ../../../data/cve_data_stories/raw/nvdcve-1.1-2011.json\n",
      "Processing ../../../data/cve_data_stories/raw/nvdcve-1.1-2012.json\n",
      "Processing ../../../data/cve_data_stories/raw/nvdcve-1.1-2013.json\n",
      "Processing ../../../data/cve_data_stories/raw/nvdcve-1.1-2014.json\n",
      "Processing ../../../data/cve_data_stories/raw/nvdcve-1.1-2015.json\n",
      "Processing ../../../data/cve_data_stories/raw/nvdcve-1.1-2016.json\n",
      "Processing ../../../data/cve_data_stories/raw/nvdcve-1.1-2017.json\n",
      "Processing ../../../data/cve_data_stories/raw/nvdcve-1.1-2018.json\n",
      "Processing ../../../data/cve_data_stories/raw/nvdcve-1.1-2019.json\n",
      "Processing ../../../data/cve_data_stories/raw/nvdcve-1.1-2020.json\n",
      "Processing ../../../data/cve_data_stories/raw/nvdcve-1.1-2021.json\n",
      "Processing ../../../data/cve_data_stories/raw/nvdcve-1.1-2022.json\n",
      "Processing ../../../data/cve_data_stories/raw/nvdcve-1.1-2023.json\n",
      "Processing ../../../data/cve_data_stories/raw/nvdcve-1.1-2024.json\n",
      "Yearly CWE counts written to ../../../data/cve_data_stories/cwe_trends/processed/cwe_yearly_counts.csv\n"
     ]
    }
   ],
   "execution_count": 3
  },
  {
   "metadata": {},
   "cell_type": "markdown",
   "source": "",
   "id": "293c9a45c5a43f9d"
  },
  {
   "metadata": {},
   "cell_type": "markdown",
   "source": [
    "# Preparing Yearly and Cumulative Counts\n",
    "\n",
    "The yearly counts are loaded and preprocessed to ensure continuity in the timeline for each CWE ID. Missing years are filled with zero counts, and cumulative counts are calculated for each CWE over time.\n",
    "\n",
    "The final dataset includes:\n",
    "1. CWE ID\n",
    "2. Year\n",
    "3. Yearly Count\n",
    "4. Cumulative Count\n",
    "\n",
    "The processed data is saved to a CSV file for further analysis and visualization."
   ],
   "id": "f22ffcbc815397c8"
  },
  {
   "metadata": {
    "ExecuteTime": {
     "end_time": "2025-01-11T10:59:16.564439Z",
     "start_time": "2025-01-11T10:59:16.429710Z"
    }
   },
   "cell_type": "code",
   "source": [
    "# Load the yearly counts CSV\n",
    "df = pd.read_csv(output_csv_yearly)\n",
    "\n",
    "# Generate all years for each CWE\n",
    "cwes = df[\"CWE_ID\"].unique()\n",
    "years = list(range(df[\"Year\"].min(), df[\"Year\"].max() + 1))\n",
    "\n",
    "# Create a complete index for CWEs and years\n",
    "full_index = pd.MultiIndex.from_product([cwes, years], names=[\"CWE_ID\", \"Year\"])\n",
    "df_full = pd.DataFrame(index=full_index).reset_index()\n",
    "\n",
    "# Merge with original data, filling missing counts with 0\n",
    "df = pd.merge(df_full, df, on=[\"CWE_ID\", \"Year\"], how=\"left\").fillna({\"Count\": 0})\n",
    "\n",
    "# Sort by CWE ID and year\n",
    "df = df.sort_values(by=[\"CWE_ID\", \"Year\"])\n",
    "\n",
    "# Calculate cumulative counts\n",
    "df[\"Cumulative_Count\"] = df.groupby(\"CWE_ID\")[\"Count\"].cumsum().astype(int)\n",
    "\n",
    "# Save the final dataset\n",
    "df.to_csv(output_csv_cumulative, index=False)\n",
    "\n",
    "print(f\"Cumulative counts saved to {output_csv_cumulative}\")\n"
   ],
   "id": "b957d2b1ac456c46",
   "outputs": [
    {
     "name": "stdout",
     "output_type": "stream",
     "text": [
      "Cumulative counts saved to ../../../data/cve_data_stories/cwe_trends/processed/cwe_yearly_cumulative.csv\n"
     ]
    }
   ],
   "execution_count": 4
  }
 ],
 "metadata": {
  "kernelspec": {
   "display_name": "Python 3",
   "language": "python",
   "name": "python3"
  },
  "language_info": {
   "codemirror_mode": {
    "name": "ipython",
    "version": 2
   },
   "file_extension": ".py",
   "mimetype": "text/x-python",
   "name": "python",
   "nbconvert_exporter": "python",
   "pygments_lexer": "ipython2",
   "version": "2.7.6"
  }
 },
 "nbformat": 4,
 "nbformat_minor": 5
}
