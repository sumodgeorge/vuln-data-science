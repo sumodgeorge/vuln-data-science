{
 "cells": [
  {
   "metadata": {},
   "cell_type": "markdown",
   "source": "# CVE Data Stories - Data Collection",
   "id": "57b272f469640885"
  },
  {
   "metadata": {
    "ExecuteTime": {
     "end_time": "2025-01-11T10:58:00.353617Z",
     "start_time": "2025-01-11T10:58:00.217081Z"
    }
   },
   "cell_type": "code",
   "source": [
    "import zipfile\n",
    "from pathlib import Path\n",
    "\n",
    "import requests"
   ],
   "id": "f0ea410ba01c8838",
   "outputs": [],
   "execution_count": 1
  },
  {
   "metadata": {},
   "cell_type": "markdown",
   "source": [
    "## Project Setup\n",
    "\n",
    "Before proceeding with data collection, we need to ensure that the necessary directory for storing raw data is in place. This step is crucial to maintain an organized structure for our project, especially when working with multiple datasets over time.\n",
    "\n",
    "The following Python code will check if the required `raw` directory under `cve_data_stories` exists, and if not, it will create it. This approach ensures that the environment is always correctly set up before any data processing begins, even if you're running this notebook on a new machine or a fresh clone of the repository."
   ],
   "id": "f67300782f9b0953"
  },
  {
   "metadata": {
    "ExecuteTime": {
     "end_time": "2025-01-11T10:58:00.363251Z",
     "start_time": "2025-01-11T10:58:00.359895Z"
    }
   },
   "cell_type": "code",
   "source": [
    "# Target directory for raw data\n",
    "DATA_DIR = Path(\"../../data/cve_data_stories/raw\")\n",
    "DATA_DIR.mkdir(parents=True, exist_ok=True)"
   ],
   "id": "99e5bc4542e6d1d7",
   "outputs": [],
   "execution_count": 2
  },
  {
   "cell_type": "markdown",
   "id": "8656d56c321c5758",
   "metadata": {},
   "source": [
    "# Data Collection\n",
    "\n",
    "To automate the downloading, unzipping, and saving of required datasets, execute the Python code in the **next cell**.\n",
    "\n",
    "This script will:\n",
    "- Download the NIST NVD (2002-2024) and CISA KEV datasets.\n",
    "- Extract JSON files from ZIP archives.\n",
    "- Save all files to the directory: `/data/cve_data_stories/raw/`.\n",
    "\n",
    "Once the script has run successfully, proceed to the data preprocessing steps in the next notebook."
   ]
  },
  {
   "metadata": {
    "ExecuteTime": {
     "end_time": "2025-01-11T10:58:08.702411Z",
     "start_time": "2025-01-11T10:58:00.637617Z"
    }
   },
   "cell_type": "code",
   "source": [
    "# Target directory for raw data\n",
    "DATA_DIR = Path(\"../../data/cve_data_stories/raw\")\n",
    "DATA_DIR.mkdir(parents=True, exist_ok=True)\n",
    "\n",
    "# Generate URLs for NVD CVE datasets (2002-2024)\n",
    "BASE_URL = \"https://nvd.nist.gov/feeds/json/cve/1.1/\"\n",
    "DATASETS = {f\"nvdcve-1.1-{year}.json.zip\": f\"{BASE_URL}nvdcve-1.1-{year}.json.zip\" for year in range(2002, 2025)}\n",
    "\n",
    "\n",
    "def download_file(url, dest):\n",
    "    \"\"\"Download a file from a URL to a destination.\"\"\"\n",
    "    print(f\"Downloading: {url}\")\n",
    "    response = requests.get(url, stream=True)\n",
    "    if response.status_code == 200:\n",
    "        with open(dest, \"wb\") as file:\n",
    "            for chunk in response.iter_content(chunk_size=1024):\n",
    "                file.write(chunk)\n",
    "        print(f\"Saved to: {dest}\")\n",
    "    else:\n",
    "        print(f\"Failed to download {url} - Status code: {response.status_code}\")\n",
    "\n",
    "\n",
    "def unzip_file(zip_path, dest_dir):\n",
    "    \"\"\"Unzip a file to a destination directory.\"\"\"\n",
    "    with zipfile.ZipFile(zip_path, \"r\") as zip_ref:\n",
    "        zip_ref.extractall(dest_dir)\n",
    "        print(f\"Unzipped {zip_path} to {dest_dir}\")\n",
    "\n",
    "\n",
    "# Main execution\n",
    "for filename, url in DATASETS.items():\n",
    "    dest_path = DATA_DIR / filename\n",
    "\n",
    "    # Download the file\n",
    "    download_file(url, dest_path)\n",
    "\n",
    "    # If it's a ZIP file, extract its contents\n",
    "    if filename.endswith(\".zip\"):\n",
    "        unzip_file(dest_path, DATA_DIR)\n",
    "        dest_path.unlink()  # Remove the ZIP file after extraction\n"
   ],
   "id": "eb1fbb84fe88fb50",
   "outputs": [
    {
     "name": "stdout",
     "output_type": "stream",
     "text": [
      "Downloading: https://nvd.nist.gov/feeds/json/cve/1.1/nvdcve-1.1-2002.json.zip\n",
      "Saved to: ../../data/cve_data_stories/raw/nvdcve-1.1-2002.json.zip\n",
      "Unzipped ../../data/cve_data_stories/raw/nvdcve-1.1-2002.json.zip to ../../data/cve_data_stories/raw\n",
      "Downloading: https://nvd.nist.gov/feeds/json/cve/1.1/nvdcve-1.1-2003.json.zip\n",
      "Saved to: ../../data/cve_data_stories/raw/nvdcve-1.1-2003.json.zip\n",
      "Unzipped ../../data/cve_data_stories/raw/nvdcve-1.1-2003.json.zip to ../../data/cve_data_stories/raw\n",
      "Downloading: https://nvd.nist.gov/feeds/json/cve/1.1/nvdcve-1.1-2004.json.zip\n",
      "Saved to: ../../data/cve_data_stories/raw/nvdcve-1.1-2004.json.zip\n",
      "Unzipped ../../data/cve_data_stories/raw/nvdcve-1.1-2004.json.zip to ../../data/cve_data_stories/raw\n",
      "Downloading: https://nvd.nist.gov/feeds/json/cve/1.1/nvdcve-1.1-2005.json.zip\n",
      "Saved to: ../../data/cve_data_stories/raw/nvdcve-1.1-2005.json.zip\n",
      "Unzipped ../../data/cve_data_stories/raw/nvdcve-1.1-2005.json.zip to ../../data/cve_data_stories/raw\n",
      "Downloading: https://nvd.nist.gov/feeds/json/cve/1.1/nvdcve-1.1-2006.json.zip\n",
      "Saved to: ../../data/cve_data_stories/raw/nvdcve-1.1-2006.json.zip\n",
      "Unzipped ../../data/cve_data_stories/raw/nvdcve-1.1-2006.json.zip to ../../data/cve_data_stories/raw\n",
      "Downloading: https://nvd.nist.gov/feeds/json/cve/1.1/nvdcve-1.1-2007.json.zip\n",
      "Saved to: ../../data/cve_data_stories/raw/nvdcve-1.1-2007.json.zip\n",
      "Unzipped ../../data/cve_data_stories/raw/nvdcve-1.1-2007.json.zip to ../../data/cve_data_stories/raw\n",
      "Downloading: https://nvd.nist.gov/feeds/json/cve/1.1/nvdcve-1.1-2008.json.zip\n",
      "Saved to: ../../data/cve_data_stories/raw/nvdcve-1.1-2008.json.zip\n",
      "Unzipped ../../data/cve_data_stories/raw/nvdcve-1.1-2008.json.zip to ../../data/cve_data_stories/raw\n",
      "Downloading: https://nvd.nist.gov/feeds/json/cve/1.1/nvdcve-1.1-2009.json.zip\n",
      "Saved to: ../../data/cve_data_stories/raw/nvdcve-1.1-2009.json.zip\n",
      "Unzipped ../../data/cve_data_stories/raw/nvdcve-1.1-2009.json.zip to ../../data/cve_data_stories/raw\n",
      "Downloading: https://nvd.nist.gov/feeds/json/cve/1.1/nvdcve-1.1-2010.json.zip\n",
      "Saved to: ../../data/cve_data_stories/raw/nvdcve-1.1-2010.json.zip\n",
      "Unzipped ../../data/cve_data_stories/raw/nvdcve-1.1-2010.json.zip to ../../data/cve_data_stories/raw\n",
      "Downloading: https://nvd.nist.gov/feeds/json/cve/1.1/nvdcve-1.1-2011.json.zip\n",
      "Saved to: ../../data/cve_data_stories/raw/nvdcve-1.1-2011.json.zip\n",
      "Unzipped ../../data/cve_data_stories/raw/nvdcve-1.1-2011.json.zip to ../../data/cve_data_stories/raw\n",
      "Downloading: https://nvd.nist.gov/feeds/json/cve/1.1/nvdcve-1.1-2012.json.zip\n",
      "Saved to: ../../data/cve_data_stories/raw/nvdcve-1.1-2012.json.zip\n",
      "Unzipped ../../data/cve_data_stories/raw/nvdcve-1.1-2012.json.zip to ../../data/cve_data_stories/raw\n",
      "Downloading: https://nvd.nist.gov/feeds/json/cve/1.1/nvdcve-1.1-2013.json.zip\n",
      "Saved to: ../../data/cve_data_stories/raw/nvdcve-1.1-2013.json.zip\n",
      "Unzipped ../../data/cve_data_stories/raw/nvdcve-1.1-2013.json.zip to ../../data/cve_data_stories/raw\n",
      "Downloading: https://nvd.nist.gov/feeds/json/cve/1.1/nvdcve-1.1-2014.json.zip\n",
      "Saved to: ../../data/cve_data_stories/raw/nvdcve-1.1-2014.json.zip\n",
      "Unzipped ../../data/cve_data_stories/raw/nvdcve-1.1-2014.json.zip to ../../data/cve_data_stories/raw\n",
      "Downloading: https://nvd.nist.gov/feeds/json/cve/1.1/nvdcve-1.1-2015.json.zip\n",
      "Saved to: ../../data/cve_data_stories/raw/nvdcve-1.1-2015.json.zip\n",
      "Unzipped ../../data/cve_data_stories/raw/nvdcve-1.1-2015.json.zip to ../../data/cve_data_stories/raw\n",
      "Downloading: https://nvd.nist.gov/feeds/json/cve/1.1/nvdcve-1.1-2016.json.zip\n",
      "Saved to: ../../data/cve_data_stories/raw/nvdcve-1.1-2016.json.zip\n",
      "Unzipped ../../data/cve_data_stories/raw/nvdcve-1.1-2016.json.zip to ../../data/cve_data_stories/raw\n",
      "Downloading: https://nvd.nist.gov/feeds/json/cve/1.1/nvdcve-1.1-2017.json.zip\n",
      "Saved to: ../../data/cve_data_stories/raw/nvdcve-1.1-2017.json.zip\n",
      "Unzipped ../../data/cve_data_stories/raw/nvdcve-1.1-2017.json.zip to ../../data/cve_data_stories/raw\n",
      "Downloading: https://nvd.nist.gov/feeds/json/cve/1.1/nvdcve-1.1-2018.json.zip\n",
      "Saved to: ../../data/cve_data_stories/raw/nvdcve-1.1-2018.json.zip\n",
      "Unzipped ../../data/cve_data_stories/raw/nvdcve-1.1-2018.json.zip to ../../data/cve_data_stories/raw\n",
      "Downloading: https://nvd.nist.gov/feeds/json/cve/1.1/nvdcve-1.1-2019.json.zip\n",
      "Saved to: ../../data/cve_data_stories/raw/nvdcve-1.1-2019.json.zip\n",
      "Unzipped ../../data/cve_data_stories/raw/nvdcve-1.1-2019.json.zip to ../../data/cve_data_stories/raw\n",
      "Downloading: https://nvd.nist.gov/feeds/json/cve/1.1/nvdcve-1.1-2020.json.zip\n",
      "Saved to: ../../data/cve_data_stories/raw/nvdcve-1.1-2020.json.zip\n",
      "Unzipped ../../data/cve_data_stories/raw/nvdcve-1.1-2020.json.zip to ../../data/cve_data_stories/raw\n",
      "Downloading: https://nvd.nist.gov/feeds/json/cve/1.1/nvdcve-1.1-2021.json.zip\n",
      "Saved to: ../../data/cve_data_stories/raw/nvdcve-1.1-2021.json.zip\n",
      "Unzipped ../../data/cve_data_stories/raw/nvdcve-1.1-2021.json.zip to ../../data/cve_data_stories/raw\n",
      "Downloading: https://nvd.nist.gov/feeds/json/cve/1.1/nvdcve-1.1-2022.json.zip\n",
      "Saved to: ../../data/cve_data_stories/raw/nvdcve-1.1-2022.json.zip\n",
      "Unzipped ../../data/cve_data_stories/raw/nvdcve-1.1-2022.json.zip to ../../data/cve_data_stories/raw\n",
      "Downloading: https://nvd.nist.gov/feeds/json/cve/1.1/nvdcve-1.1-2023.json.zip\n",
      "Saved to: ../../data/cve_data_stories/raw/nvdcve-1.1-2023.json.zip\n",
      "Unzipped ../../data/cve_data_stories/raw/nvdcve-1.1-2023.json.zip to ../../data/cve_data_stories/raw\n",
      "Downloading: https://nvd.nist.gov/feeds/json/cve/1.1/nvdcve-1.1-2024.json.zip\n",
      "Saved to: ../../data/cve_data_stories/raw/nvdcve-1.1-2024.json.zip\n",
      "Unzipped ../../data/cve_data_stories/raw/nvdcve-1.1-2024.json.zip to ../../data/cve_data_stories/raw\n"
     ]
    }
   ],
   "execution_count": 3
  }
 ],
 "metadata": {
  "kernelspec": {
   "display_name": "Python 3",
   "language": "python",
   "name": "python3"
  },
  "language_info": {
   "codemirror_mode": {
    "name": "ipython",
    "version": 2
   },
   "file_extension": ".py",
   "mimetype": "text/x-python",
   "name": "python",
   "nbconvert_exporter": "python",
   "pygments_lexer": "ipython2",
   "version": "2.7.6"
  }
 },
 "nbformat": 4,
 "nbformat_minor": 5
}
