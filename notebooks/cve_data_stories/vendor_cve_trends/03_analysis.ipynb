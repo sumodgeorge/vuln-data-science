{
 "cells": [
  {
   "metadata": {},
   "cell_type": "markdown",
   "source": "# CVE Data Stories: Vendor CVE Trends - Analysis\n",
   "id": "26535ac6da8a3fd8"
  },
  {
   "metadata": {},
   "cell_type": "markdown",
   "source": [
    "## Calculate Cumulative CVE Counts by Vendor (Starting from 1996)\n",
    "\n",
    "This script processes a CSV file containing monthly CVE counts for each vendor, filters the data to start at 1996, and calculates cumulative totals over time. The output is saved as a new CSV file for further analysis.\n",
    "\n",
    "### Steps in the Script\n",
    "\n",
    "1. **Load the Monthly Counts CSV**:\n",
    "   - Reads a CSV file (`vendor_monthly_counts.csv`) containing CVE counts grouped by `Vendor`, `Year`, and `Month`.\n",
    "\n",
    "2. **Create a Complete Date Range**:\n",
    "   - Generates a range of dates from the earliest to the latest `Year` and `Month` in the dataset.\n",
    "   - Ensures no months are missing for any vendor by creating a complete time series for all vendors.\n",
    "\n",
    "3. **Filter Data to Start at 1996**:\n",
    "   - After generating the complete date range, filters the data to include only years starting from 1996. This ensures the dataset focuses on meaningful trends and avoids sparse data from earlier years.\n",
    "\n",
    "4. **Build a DataFrame for All Vendors and Dates**:\n",
    "   - Combines the list of unique vendors with the filtered date range using a multi-index.\n",
    "   - Creates a DataFrame that represents every `(vendor, year, month)` combination, even for months with no CVEs.\n",
    "\n",
    "5. **Merge and Fill Missing Counts**:\n",
    "   - Merges the original data with the complete DataFrame, filling missing `Count` values with `0`.\n",
    "\n",
    "6. **Sort the Data**:\n",
    "   - Sorts the data by `Vendor`, `Year`, and `Month` to ensure proper order for cumulative calculations.\n",
    "\n",
    "7. **Calculate Cumulative Totals**:\n",
    "   - For each vendor, calculates a running total of CVE counts using the `cumsum` method.\n",
    "   - Ensures the cumulative totals are stored as integers.\n",
    "\n",
    "8. **Drop Unnecessary Columns**:\n",
    "   - Removes the `Date` column (if not needed) to reduce file size and simplify the output.\n",
    "\n",
    "9. **Save Results to a New CSV**:\n",
    "   - Saves the processed data, including cumulative totals, to a new file (`vendor_cumulative_counts.csv`).\n",
    "\n",
    "### Key Features\n",
    "\n",
    "- **Filters Sparse Early Data**:\n",
    "  - Focuses on data from 1996 onwards for improved analysis and visualization.\n",
    "\n",
    "- **Handles Missing Data**:\n",
    "  - Ensures every month is accounted for, even if no CVEs were reported for a vendor in a given month.\n",
    "\n",
    "- **Efficient Cumulative Calculation**:\n",
    "  - Uses `groupby` and `cumsum` to calculate cumulative totals efficiently for each vendor.\n",
    "\n",
    "- **Clean and Sorted Output**:\n",
    "  - The final CSV is sorted and ready for use in visualizations or additional analysis.\n",
    "\n",
    "### Output\n",
    "- **CSV File**:\n",
    "  - The final output is a CSV file (`vendor_cumulative_counts.csv`) containing:\n",
    "    | Vendor    | Year | Month | Count | Cumulative_Count |\n",
    "    |-----------|------|-------|-------|-------------------|\n",
    "    | freebsd   | 1996 | 1     | 5     | 5                 |\n",
    "    | freebsd   | 1996 | 2     | 0     | 5                 |\n",
    "    | freebsd   | 1996 | 3     | 8     | 13                |\n",
    "    | redhat    | 1996 | 1     | 0     | 0                 |\n",
    "    | redhat    | 1996 | 2     | 15    | 15                |\n"
   ],
   "id": "63cb5054a0709041"
  },
  {
   "metadata": {
    "ExecuteTime": {
     "end_time": "2025-01-05T11:08:41.884789Z",
     "start_time": "2025-01-05T11:08:13.309969Z"
    }
   },
   "cell_type": "code",
   "source": [
    "import pandas as pd\n",
    "\n",
    "# Load the monthly counts CSV\n",
    "input_csv = \"../../../data/cve_data_stories/raw/vendor_monthly_counts.csv\"\n",
    "output_csv = \"../../../data/cve_data_stories/vendor_cve_trends/processed/vendor_cumulative_counts.csv\"\n",
    "\n",
    "# Read data into a DataFrame\n",
    "df = pd.read_csv(input_csv)\n",
    "\n",
    "# Ensure all months are represented for each vendor\n",
    "# Create a complete date range from the earliest year and month to the latest\n",
    "date_range = pd.date_range(\n",
    "    start=f\"{df['Year'].min()}-{df['Month'].min()}-01\",\n",
    "    end=f\"{df['Year'].max()}-{df['Month'].max()}-01\",\n",
    "    freq=\"MS\"  # Month Start frequency\n",
    ")\n",
    "\n",
    "# Create a DataFrame for all vendors and the complete date range\n",
    "vendors = df[\"Vendor\"].unique()\n",
    "full_index = pd.MultiIndex.from_product(\n",
    "    [vendors, date_range],\n",
    "    names=[\"Vendor\", \"Date\"]\n",
    ")\n",
    "df_full = pd.DataFrame(index=full_index).reset_index()\n",
    "\n",
    "# Extract Year and Month from the full date range\n",
    "df_full[\"Year\"] = df_full[\"Date\"].dt.year\n",
    "df_full[\"Month\"] = df_full[\"Date\"].dt.month\n",
    "\n",
    "# Filter to include only years from 1996 onwards\n",
    "df_full = df_full[df_full[\"Year\"] >= 1996]\n",
    "\n",
    "# Merge with the original data, filling missing counts with 0\n",
    "df = pd.merge(df_full, df, on=[\"Vendor\", \"Year\", \"Month\"], how=\"left\").fillna({\"Count\": 0})\n",
    "\n",
    "# Drop the Date column (no longer needed)\n",
    "df = df.drop(columns=[\"Date\"])\n",
    "\n",
    "# Sort data by vendor, year, and month\n",
    "df = df.sort_values(by=[\"Vendor\", \"Year\", \"Month\"])\n",
    "\n",
    "# Calculate cumulative totals\n",
    "df[\"Cumulative_Count\"] = df.groupby(\"Vendor\")[\"Count\"].cumsum().astype(int)\n",
    "\n",
    "# Save to a new CSV\n",
    "df.to_csv(output_csv, index=False)\n",
    "\n",
    "print(f\"Cumulative totals saved to {output_csv}\")"
   ],
   "id": "c0a375843b852b96",
   "outputs": [
    {
     "name": "stdout",
     "output_type": "stream",
     "text": [
      "Cumulative totals saved to ../../../data/cve_data_stories/vendor_cve_trends/processed/vendor_cumulative_counts.csv\n"
     ]
    }
   ],
   "execution_count": 1
  }
 ],
 "metadata": {
  "kernelspec": {
   "display_name": "Python 3",
   "language": "python",
   "name": "python3"
  },
  "language_info": {
   "codemirror_mode": {
    "name": "ipython",
    "version": 2
   },
   "file_extension": ".py",
   "mimetype": "text/x-python",
   "name": "python",
   "nbconvert_exporter": "python",
   "pygments_lexer": "ipython2",
   "version": "2.7.6"
  }
 },
 "nbformat": 4,
 "nbformat_minor": 5
}
