{
 "cells": [
  {
   "metadata": {},
   "cell_type": "raw",
   "source": "# CVE Data Stories: Vendor CVE Trends - Processing",
   "id": "921e3aa9f70dfad7"
  },
  {
   "metadata": {},
   "cell_type": "markdown",
   "source": [
    "## **Preprocessing Vendors for Bar Chart Race**\n",
    "\n",
    "This script preprocesses the cumulative CVE data to filter out vendors that have never been in the **Top 20** based on cumulative CVE counts during any period (Year-Month). By focusing only on these significant vendors, the dataset becomes more efficient to process and ensures meaningful insights in the bar chart race.\n",
    "\n",
    "---\n",
    "\n",
    "### **Steps in the Script**\n",
    "\n",
    "1. **Load Cumulative Data**\n",
    "   - The script starts by reading the `vendor_cumulative_counts.csv` file, which contains the cumulative CVE counts for each vendor across Year-Month periods.\n",
    "   - This serves as the raw data for filtering.\n",
    "\n",
    "2. **Remove Empty Periods**\n",
    "   - Any rows where the `Cumulative_Count` is `0` are excluded.\n",
    "   - This step ensures that only meaningful periods are used for ranking and filtering.\n",
    "\n",
    "3. **Rank Vendors for Each Period**\n",
    "   - Vendors are ranked **within each Year-Month period** based on their cumulative CVE counts:\n",
    "     - A rank of `1` indicates the highest cumulative CVE count in that period.\n",
    "     - Ties are handled by assigning the lowest rank among the tied vendors.\n",
    "\n",
    "4. **Identify Top Vendors**\n",
    "   - The script identifies vendors that have achieved a rank of **20 or better** in at least one period.\n",
    "   - These vendors represent the most significant contributors to CVE disclosures.\n",
    "\n",
    "5. **Filter to Top 20 Vendors**\n",
    "   - The dataset is filtered to include only rows corresponding to these **Top 20** vendors across all periods.\n",
    "\n",
    "6. **Drop Unnecessary Columns**\n",
    "   - The `Rank` column, used for intermediate calculations, is removed to streamline the final dataset.\n",
    "\n",
    "7. **Save the Filtered Data**\n",
    "   - The filtered dataset is saved as `vendor_top_20.csv` in the original format:\n",
    "     ```\n",
    "     Vendor,Year,Month,Count,Cumulative_Count\n",
    "     ```\n"
   ],
   "id": "c2468e15d4a5bf44"
  },
  {
   "metadata": {
    "ExecuteTime": {
     "end_time": "2025-01-05T11:09:18.459590Z",
     "start_time": "2025-01-05T11:09:11.778642Z"
    }
   },
   "cell_type": "code",
   "source": [
    "import pandas as pd\n",
    "\n",
    "# Load cumulative data\n",
    "input_csv = \"../../../data/cve_data_stories/vendor_cve_trends/processed/vendor_cumulative_counts.csv\"\n",
    "df = pd.read_csv(input_csv)\n",
    "\n",
    "# Remove periods where all vendors have Cumulative_Count = 0\n",
    "df = df[df[\"Cumulative_Count\"] > 0]\n",
    "\n",
    "# Rank vendors for each Year-Month period based on Cumulative_Count\n",
    "df[\"Rank\"] = df.groupby([\"Year\", \"Month\"])[\"Cumulative_Count\"].rank(\n",
    "    method=\"min\", ascending=False\n",
    ")\n",
    "\n",
    "# Filter vendors that have been in the Top 20 at least once\n",
    "top_vendors = df[df[\"Rank\"] <= 20][\"Vendor\"].unique()\n",
    "\n",
    "# Filter the original dataset to include only these top vendors\n",
    "df_filtered = df[df[\"Vendor\"].isin(top_vendors)]\n",
    "\n",
    "# Drop the Rank column (optional, as it's no longer needed)\n",
    "df_filtered = df_filtered.drop(columns=[\"Rank\"])\n",
    "\n",
    "# Save the filtered data\n",
    "filtered_csv = \"../../../data/cve_data_stories/vendor_cve_trends/processed/vendor_top_20.csv\"\n",
    "df_filtered.to_csv(filtered_csv, index=False)\n",
    "\n",
    "print(f\"Filtered dataset saved to {filtered_csv}.\")\n"
   ],
   "id": "8be9f842acf116ae",
   "outputs": [
    {
     "name": "stdout",
     "output_type": "stream",
     "text": [
      "Filtered dataset saved to ../../../data/cve_data_stories/vendor_cve_trends/processed/vendor_top_20.csv.\n"
     ]
    }
   ],
   "execution_count": 6
  }
 ],
 "metadata": {
  "kernelspec": {
   "display_name": "Python 3",
   "language": "python",
   "name": "python3"
  },
  "language_info": {
   "codemirror_mode": {
    "name": "ipython",
    "version": 2
   },
   "file_extension": ".py",
   "mimetype": "text/x-python",
   "name": "python",
   "nbconvert_exporter": "python",
   "pygments_lexer": "ipython2",
   "version": "2.7.6"
  }
 },
 "nbformat": 4,
 "nbformat_minor": 5
}
