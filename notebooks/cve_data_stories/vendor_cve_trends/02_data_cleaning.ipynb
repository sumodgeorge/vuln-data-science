{
 "cells": [
  {
   "metadata": {},
   "cell_type": "markdown",
   "source": "# CVE Data Stories: Vendor CVE Trends - Data Cleaning",
   "id": "bcf59282e9a35bd6"
  },
  {
   "metadata": {
    "ExecuteTime": {
     "end_time": "2025-01-05T09:48:37.346613Z",
     "start_time": "2025-01-05T09:48:37.343302Z"
    }
   },
   "cell_type": "code",
   "source": [
    "import csv\n",
    "import json\n",
    "from collections import defaultdict\n",
    "from datetime import datetime\n",
    "from pathlib import Path"
   ],
   "id": "7cf1189c69492fb1",
   "outputs": [],
   "execution_count": 6
  },
  {
   "metadata": {},
   "cell_type": "markdown",
   "source": [
    "## Project Setup\n",
    "\n",
    "Before proceeding with data processing, we need to ensure that the necessary directory for storing processed data is in place. This step is crucial to maintain an organized structure for our project, especially when working with multiple datasets over time.\n",
    "\n",
    "The following Python code will check if the required `processed` directory under `data/cve_data_stories/vendor_cve_trends/` exists, and if not, it will create it. This approach ensures that the environment is always correctly set up before any data processing begins, even if you're running this notebook on a new machine or a fresh clone of the repository."
   ],
   "id": "3d8a27ae013b3753"
  },
  {
   "metadata": {
    "collapsed": true,
    "ExecuteTime": {
     "end_time": "2025-01-05T09:48:37.373361Z",
     "start_time": "2025-01-05T09:48:37.369036Z"
    }
   },
   "cell_type": "code",
   "source": [
    "# Target directory for processed data\n",
    "DATA_DIR = Path(\"../../../data/cve_data_stories/vendor_cve_trends/processed\")\n",
    "DATA_DIR.mkdir(parents=True, exist_ok=True)"
   ],
   "id": "initial_id",
   "outputs": [],
   "execution_count": 7
  },
  {
   "metadata": {},
   "cell_type": "markdown",
   "source": [
    "## Collecting Monthly CVE Counts by Vendor\n",
    "\n",
    "This script processes JSON files containing CVE data (downloaded from NVD) and extracts monthly counts of CVEs for each vendor. The output is saved as a CSV file for further analysis.\n",
    "\n",
    "### Steps in the Script\n",
    "\n",
    "1. **Define Datasets**:\n",
    "   - A dictionary is created where each key is a year (2002–2024) and each value is the corresponding JSON file name:\n",
    "     ```python\n",
    "     DATASETS = {year: f\"nvdcve-1.1-{year}.json\" for year in range(2002, 2025)}\n",
    "     ```\n",
    "\n",
    "2. **Define a Function to Extract Monthly Counts**:\n",
    "   - The function `collect_monthly_counts` processes a single JSON file and:\n",
    "     - Extracts the `publishedDate` of each CVE to determine the year and month.\n",
    "     - Extracts vendor names from the `cpe23Uri` field in the `configurations` section.\n",
    "     - Updates a running tally of CVE counts for each `(vendor, year, month)`.\n",
    "\n",
    "3. **Handle Missing or Invalid Data**:\n",
    "   - Skips CVEs without a valid `publishedDate`.\n",
    "   - Handles missing files, JSON decoding errors, or other exceptions gracefully by logging a message.\n",
    "\n",
    "4. **Iterate Over All Datasets**:\n",
    "   - Each year’s JSON file is processed in a loop:\n",
    "     - Loads the file.\n",
    "     - Extracts monthly CVE counts by vendor.\n",
    "   - Uses a `defaultdict` to store cumulative counts for all `(vendor, year, month)` combinations.\n",
    "\n",
    "5. **Write Results to a CSV File**:\n",
    "   - Saves the data to a CSV file (`vendor_monthly_counts.csv`) with the following structure:\n",
    "     | Vendor    | Year | Month | Count |\n",
    "     |-----------|------|-------|-------|\n",
    "     | microsoft | 2023 | 1     | 12    |\n",
    "     | adobe     | 2023 | 1     | 8     |\n",
    "     | redhat    | 2023 | 1     | 5     |\n",
    "\n",
    "### Key Features\n",
    "\n",
    "- **Handles Duplicate Vendors**:\n",
    "  - Each CVE might list a vendor multiple times, but the script uses a `set` to ensure each vendor is counted only once per CVE.\n",
    "\n",
    "- **Efficient Storage**:\n",
    "  - Uses a `defaultdict(int)` to avoid repetitive checks for existing keys, ensuring the data structure is memory-efficient.\n",
    "\n",
    "- **Error Handling**:\n",
    "  - Logs errors for missing files, invalid JSON, or unexpected issues, allowing the script to continue processing other datasets.\n",
    "\n",
    "### Output\n",
    "- **CSV File**:\n",
    "  - The final output is a CSV file (`vendor_monthly_counts.csv`) containing:\n",
    "    - Vendor name.\n",
    "    - Year and month.\n",
    "    - CVE count for that vendor in the given month.\n"
   ],
   "id": "4059b553f545417a"
  },
  {
   "metadata": {
    "ExecuteTime": {
     "end_time": "2025-01-05T09:49:17.968688Z",
     "start_time": "2025-01-05T09:48:37.482652Z"
    }
   },
   "cell_type": "code",
   "source": [
    "# Define datasets\n",
    "DATASETS = {year: f\"nvdcve-1.1-{year}.json\" for year in range(2002, 2025)}\n",
    "\n",
    "\n",
    "def collect_monthly_counts(json_file, month_counts):\n",
    "    try:\n",
    "        with open(json_file, 'r') as f:\n",
    "            data = json.load(f)\n",
    "\n",
    "        for item in data.get('CVE_Items', []):\n",
    "            published_date = item.get('publishedDate', None)\n",
    "\n",
    "            # Parse year and month from the published date\n",
    "            if published_date:\n",
    "                date = datetime.strptime(published_date, \"%Y-%m-%dT%H:%MZ\")\n",
    "                pub_year = date.year\n",
    "                pub_month = date.month\n",
    "            else:\n",
    "                continue  # Skip if no published date\n",
    "\n",
    "            # Extract vendor info\n",
    "            vendors = set()  # Avoid duplicate vendors per CVE\n",
    "            for node in item.get('configurations', {}).get('nodes', []):\n",
    "                for cpe in node.get('cpe_match', []):\n",
    "                    cpe_uri = cpe.get('cpe23Uri', '')\n",
    "                    if cpe_uri:\n",
    "                        parts = cpe_uri.split(':')\n",
    "                        if len(parts) > 4:  # Ensure valid CPE format\n",
    "                            vendors.add(parts[3])  # Extract vendor\n",
    "\n",
    "            # Update monthly counts\n",
    "            for v in vendors:\n",
    "                month_counts[(v, pub_year, pub_month)] += 1\n",
    "\n",
    "    except FileNotFoundError:\n",
    "        print(f\"File not found: {json_file}\")\n",
    "    except json.JSONDecodeError:\n",
    "        print(f\"Error decoding JSON: {json_file}\")\n",
    "    except Exception as e:\n",
    "        print(f\"An error occurred: {e}\")\n",
    "\n",
    "\n",
    "# Define data folder\n",
    "data_folder = Path(\"../../../data/cve_data_stories/raw\")\n",
    "\n",
    "# Initialize defaultdict to hold monthly counts\n",
    "monthly_counts = defaultdict(int)\n",
    "\n",
    "# Process each dataset\n",
    "for year, file_name in DATASETS.items():\n",
    "    input_file = data_folder / file_name\n",
    "    print(f\"Processing {input_file}\")\n",
    "    collect_monthly_counts(input_file, monthly_counts)\n",
    "\n",
    "# Write monthly counts to a CSV\n",
    "output_csv = DATA_DIR / \"vendor_monthly_counts.csv\"\n",
    "with open(output_csv, 'w', newline='') as csvfile:\n",
    "    writer = csv.writer(csvfile)\n",
    "    writer.writerow([\"Vendor\", \"Year\", \"Month\", \"Count\"])  # Header row\n",
    "    for (vendor, year, month), count in sorted(monthly_counts.items()):\n",
    "        writer.writerow([vendor, year, month, count])\n",
    "\n",
    "print(f\"Monthly counts written to {output_csv}\")\n"
   ],
   "id": "5afc250acd1c7797",
   "outputs": [
    {
     "name": "stdout",
     "output_type": "stream",
     "text": [
      "Processing ../../../data/cve_data_stories/raw/nvdcve-1.1-2002.json\n",
      "Processing ../../../data/cve_data_stories/raw/nvdcve-1.1-2003.json\n",
      "Processing ../../../data/cve_data_stories/raw/nvdcve-1.1-2004.json\n",
      "Processing ../../../data/cve_data_stories/raw/nvdcve-1.1-2005.json\n",
      "Processing ../../../data/cve_data_stories/raw/nvdcve-1.1-2006.json\n",
      "Processing ../../../data/cve_data_stories/raw/nvdcve-1.1-2007.json\n",
      "Processing ../../../data/cve_data_stories/raw/nvdcve-1.1-2008.json\n",
      "Processing ../../../data/cve_data_stories/raw/nvdcve-1.1-2009.json\n",
      "Processing ../../../data/cve_data_stories/raw/nvdcve-1.1-2010.json\n",
      "Processing ../../../data/cve_data_stories/raw/nvdcve-1.1-2011.json\n",
      "Processing ../../../data/cve_data_stories/raw/nvdcve-1.1-2012.json\n",
      "Processing ../../../data/cve_data_stories/raw/nvdcve-1.1-2013.json\n",
      "Processing ../../../data/cve_data_stories/raw/nvdcve-1.1-2014.json\n",
      "Processing ../../../data/cve_data_stories/raw/nvdcve-1.1-2015.json\n",
      "Processing ../../../data/cve_data_stories/raw/nvdcve-1.1-2016.json\n",
      "Processing ../../../data/cve_data_stories/raw/nvdcve-1.1-2017.json\n",
      "Processing ../../../data/cve_data_stories/raw/nvdcve-1.1-2018.json\n",
      "Processing ../../../data/cve_data_stories/raw/nvdcve-1.1-2019.json\n",
      "Processing ../../../data/cve_data_stories/raw/nvdcve-1.1-2020.json\n",
      "Processing ../../../data/cve_data_stories/raw/nvdcve-1.1-2021.json\n",
      "Processing ../../../data/cve_data_stories/raw/nvdcve-1.1-2022.json\n",
      "Processing ../../../data/cve_data_stories/raw/nvdcve-1.1-2023.json\n",
      "Processing ../../../data/cve_data_stories/raw/nvdcve-1.1-2024.json\n",
      "Monthly counts written to ../../../data/cve_data_stories/vendor_cve_trends/processed/vendor_monthly_counts.csv\n"
     ]
    }
   ],
   "execution_count": 8
  }
 ],
 "metadata": {
  "kernelspec": {
   "display_name": "Python 3",
   "language": "python",
   "name": "python3"
  },
  "language_info": {
   "codemirror_mode": {
    "name": "ipython",
    "version": 2
   },
   "file_extension": ".py",
   "mimetype": "text/x-python",
   "name": "python",
   "nbconvert_exporter": "python",
   "pygments_lexer": "ipython2",
   "version": "2.7.6"
  }
 },
 "nbformat": 4,
 "nbformat_minor": 5
}
